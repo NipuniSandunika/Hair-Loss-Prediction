{
 "cells": [
  {
   "cell_type": "code",
   "execution_count": 1,
   "id": "048ea33e",
   "metadata": {},
   "outputs": [],
   "source": [
    "import pandas as pd\n",
    "import numpy as np\n",
    "#from ydata_profiling import ProfileReport\n",
    "import seaborn as sns\n",
    "import matplotlib.pyplot as plt\n",
    "%matplotlib inline\n",
    "#from ydata_profiling import ProfileReport\n",
    "from sklearn.preprocessing import StandardScaler\n",
    "from sklearn.decomposition import PCA\n",
    "import matplotlib.pyplot as plt\n",
    "import pandas as pd\n",
    "import numpy as np\n",
    "#from ydata_profiling import ProfileReport\n",
    "import seaborn as sns\n",
    "import matplotlib.pyplot as plt\n",
    "%matplotlib inline\n",
    "from wordcloud import WordCloud\n",
    "import plotly.express as px\n",
    "import plotly.graph_objs as go\n",
    "from plotly.offline import iplot\n",
    "from matplotlib.gridspec import GridSpec\n",
    "from sklearn.ensemble import RandomForestClassifier, RandomForestRegressor\n",
    "from warnings import filterwarnings\n",
    "from sklearn.preprocessing import LabelEncoder, StandardScaler, OneHotEncoder\n",
    "from sklearn.decomposition import PCA\n",
    "from sklearn.compose import ColumnTransformer\n",
    "from sklearn.pipeline import Pipeline\n",
    "from sklearn.impute import SimpleImputer\n",
    "from sklearn.model_selection import train_test_split, GridSearchCV\n",
    "from sklearn.metrics import mean_squared_error, r2_score, silhouette_samples\n",
    "from sklearn.cluster import KMeans, AgglomerativeClustering\n",
    "from scipy.cluster.hierarchy import linkage, dendrogram\n",
    "#from factor_analyzer import FactorAnalyzer\n",
    "from sklearn.ensemble import GradientBoostingRegressor\n",
    "import xgboost as xgb\n",
    "#import lightgbm as lgb\n",
    "from sklearn.linear_model import ElasticNet\n",
    "from itertools import combinations\n",
    "from kmodes.kprototypes import KPrototypes\n",
    "from collections import Counter\n",
    "import seaborn as sns\n",
    "import plotly.express as px\n",
    "import plotly.graph_objs as go\n",
    "from plotly.offline import iplot\n",
    "from sklearn.model_selection import train_test_split\n",
    "from sklearn.tree import DecisionTreeClassifier\n",
    "from sklearn.impute import SimpleImputer\n",
    "from sklearn.tree import DecisionTreeRegressor\n",
    "from sklearn.feature_selection import RFE\n",
    "### so that u dont have warnings\n",
    "from warnings import filterwarnings\n",
    "filterwarnings('ignore')\n",
    "from sklearn.cluster import DBSCAN\n",
    "from sklearn.linear_model import ElasticNet\n",
    "from sklearn.model_selection import GridSearchCV"
   ]
  },
  {
   "cell_type": "code",
   "execution_count": 2,
   "id": "50ca548f",
   "metadata": {},
   "outputs": [],
   "source": [
    "df_1 = pd.read_csv(\"Predict Hair Fall.csv\")"
   ]
  },
  {
   "cell_type": "code",
   "execution_count": 3,
   "id": "4ed2ae3e-b0d0-4649-ac90-319430c76f75",
   "metadata": {},
   "outputs": [],
   "source": [
    "X = df_1.drop(columns=['Hair Loss'])\n",
    "Y = df_1['Hair Loss']"
   ]
  },
  {
   "cell_type": "raw",
   "id": "5b9d95c2-7361-4f4a-859b-8ee7da8d7a61",
   "metadata": {},
   "source": [
    "pip install category_encoders"
   ]
  },
  {
   "cell_type": "code",
   "execution_count": 4,
   "id": "611c8ad7",
   "metadata": {},
   "outputs": [],
   "source": [
    "from category_encoders import TargetEncoder"
   ]
  },
  {
   "cell_type": "code",
   "execution_count": 5,
   "id": "d3e97451",
   "metadata": {},
   "outputs": [
    {
     "name": "stdout",
     "output_type": "stream",
     "text": [
      "Warning: No categorical columns found. Calling 'transform' will only return input data.\n",
      "Warning: No categorical columns found. Calling 'transform' will only return input data.\n",
      "Warning: No categorical columns found. Calling 'transform' will only return input data.\n",
      "Warning: No categorical columns found. Calling 'transform' will only return input data.\n",
      "Warning: No categorical columns found. Calling 'transform' will only return input data.\n",
      "Warning: No categorical columns found. Calling 'transform' will only return input data.\n",
      "Warning: No categorical columns found. Calling 'transform' will only return input data.\n",
      "Warning: No categorical columns found. Calling 'transform' will only return input data.\n",
      "Warning: No categorical columns found. Calling 'transform' will only return input data.\n"
     ]
    }
   ],
   "source": [
    "from sklearn.preprocessing import OneHotEncoder\n",
    "\n",
    "# Define your target encoder columns\n",
    "\n",
    "target_encoder_cols = X.select_dtypes('O').columns.tolist()\n",
    "\n",
    "# Split the data into train and test sets\n",
    "X_train, X_test, y_train, y_test = train_test_split(X, Y, test_size=0.2, random_state=42)\n",
    "\n",
    "# Perform frequency encoding for each column\n",
    "for col in target_encoder_cols:\n",
    "    target_encoder = TargetEncoder()\n",
    "\n",
    "    # Fit and transform the target encoder on the training data\n",
    "    X_train[target_encoder_cols] = target_encoder.fit_transform(X_train[target_encoder_cols], y_train)\n",
    "\n",
    "    # Transform the test data using the target encoder fitted on the training data\n",
    "    X_test[target_encoder_cols] = target_encoder.transform(X_test[target_encoder_cols])\n"
   ]
  },
  {
   "cell_type": "code",
   "execution_count": 6,
   "id": "4bd15178",
   "metadata": {},
   "outputs": [],
   "source": [
    "from sklearn.cluster import KMeans\n",
    "\n",
    "random_seed = 42\n",
    "n_clusters = 2  # Assuming you want to cluster into 2 groups\n",
    "kmeans = KMeans(n_clusters=n_clusters, random_state=random_seed)\n",
    "kmeans.fit(X_train)\n",
    "predictions = kmeans.labels_\n",
    "\n",
    "X_train['cluster_label'] = predictions\n",
    "\n",
    "X_train_1 = X_train[X_train['cluster_label'] == 0]\n",
    "X_train_2 = X_train[X_train['cluster_label'] == 1]\n",
    "\n",
    "indexes_1 = X_train_1.index\n",
    "indexes_2 = X_train_2.index\n",
    "\n",
    "y_train_1 = y_train.loc[indexes_1]\n",
    "y_train_2 = y_train.loc[indexes_2]\n"
   ]
  },
  {
   "cell_type": "code",
   "execution_count": 7,
   "id": "6737da58",
   "metadata": {},
   "outputs": [],
   "source": [
    "x_train_cluster_1 , x_test_cluster_1 , y_train_cluster_1 , y_test_cluster_1 = train_test_split(X_train_1,y_train_1,test_size=0.2,random_state=42)"
   ]
  },
  {
   "cell_type": "code",
   "execution_count": 8,
   "id": "508cecbc",
   "metadata": {},
   "outputs": [
    {
     "name": "stdout",
     "output_type": "stream",
     "text": [
      "Selected Features (XGBoost): Index(['Hormonal Changes', 'Medical Conditions', 'Medications & Treatments',\n",
      "       'Nutritional Deficiencies ', 'Poor Hair Care Habits ', 'Smoking',\n",
      "       'Weight Loss '],\n",
      "      dtype='object')\n",
      "Accuracy on Training set (XGBoost): 0.5709876543209876\n",
      "Accuracy on Testing set (XGBoost): 0.5308641975308642\n",
      "{'feature_selection__estimator__alpha': 0.1, 'feature_selection__estimator__l1_ratio': 0.1, 'xgb__learning_rate': 0.001, 'xgb__max_depth': 3, 'xgb__n_estimators': 100}\n"
     ]
    }
   ],
   "source": [
    "from sklearn.pipeline import Pipeline\n",
    "from sklearn.feature_selection import SelectFromModel\n",
    "from sklearn.model_selection import GridSearchCV\n",
    "from sklearn.metrics import accuracy_score\n",
    "from xgboost import XGBClassifier\n",
    "\n",
    "# Create Pipeline with feature selection and XGBoost for classification\n",
    "pipeline_xgb = Pipeline([\n",
    "    ('feature_selection', SelectFromModel(XGBClassifier())),\n",
    "    ('xgb', XGBClassifier())\n",
    "])\n",
    "\n",
    "# Define parameter grid for hyperparameter tuning for XGBoost\n",
    "param_grid_xgb = {\n",
    "    'feature_selection__estimator__alpha': [0.1, 1.0, 10.0],\n",
    "    'feature_selection__estimator__l1_ratio': [0.1, 0.5, 0.9],\n",
    "    'xgb__learning_rate': [0.1, 0.01, 0.001],\n",
    "    'xgb__n_estimators': [100, 500, 1000],\n",
    "    'xgb__max_depth': [3, 5, 7]\n",
    "}\n",
    "\n",
    "# Perform GridSearchCV for XGBoost\n",
    "grid_search_xgb = GridSearchCV(pipeline_xgb, param_grid_xgb, cv=5, scoring='accuracy', n_jobs=-1)\n",
    "\n",
    "# Fit GridSearchCV for XGBoost\n",
    "grid_search_xgb.fit(x_train_cluster_1, y_train_cluster_1)\n",
    "\n",
    "# Get the best model for XGBoost\n",
    "best_model_xgb_1 = grid_search_xgb.best_estimator_\n",
    "\n",
    "# Get the selected features for XGBoost\n",
    "selected_features_xgb = x_train_cluster_1.columns[best_model_xgb_1.named_steps['feature_selection'].get_support()]\n",
    "\n",
    "# Evaluate the best model for XGBoost\n",
    "y_train_pred_xgb = best_model_xgb_1.predict(x_train_cluster_1)\n",
    "y_test_pred_xgb = best_model_xgb_1.predict(x_test_cluster_1)\n",
    "\n",
    "# Accuracy\n",
    "accuracy_train_xgb = accuracy_score(y_train_cluster_1, y_train_pred_xgb)\n",
    "accuracy_test_xgb = accuracy_score(y_test_cluster_1, y_test_pred_xgb)\n",
    "\n",
    "print(\"Selected Features (XGBoost):\", selected_features_xgb)\n",
    "print(\"Accuracy on Training set (XGBoost):\", accuracy_train_xgb)\n",
    "print(\"Accuracy on Testing set (XGBoost):\", accuracy_test_xgb)\n",
    "print(grid_search_xgb.best_params_)\n"
   ]
  },
  {
   "cell_type": "code",
   "execution_count": 10,
   "id": "4d86d27a",
   "metadata": {},
   "outputs": [
    {
     "name": "stdout",
     "output_type": "stream",
     "text": [
      "Selected Features (XGBoost) for Cluster 1: Index(['Hormonal Changes', 'Medical Conditions', 'Medications & Treatments',\n",
      "       'Nutritional Deficiencies ', 'Poor Hair Care Habits ', 'Smoking',\n",
      "       'Weight Loss '],\n",
      "      dtype='object')\n",
      "Accuracy on Training set (XGBoost) for Cluster 1: 0.5709876543209876\n",
      "Accuracy on Testing set (XGBoost) for Cluster 1: 0.5308641975308642\n",
      "ROC AUC Score on Training set (XGBoost) for Cluster 1: 0.6587789228076998\n",
      "ROC AUC Score on Testing set (XGBoost) for Cluster 1: 0.47582619339045273\n",
      "Classification Report on Training set (XGBoost) for Cluster 1:\n",
      "               precision    recall  f1-score   support\n",
      "\n",
      "           0       0.57      1.00      0.73       185\n",
      "           1       0.00      0.00      0.00       139\n",
      "\n",
      "    accuracy                           0.57       324\n",
      "   macro avg       0.29      0.50      0.36       324\n",
      "weighted avg       0.33      0.57      0.42       324\n",
      "\n",
      "Classification Report on Testing set (XGBoost) for Cluster 1:\n",
      "               precision    recall  f1-score   support\n",
      "\n",
      "           0       0.53      1.00      0.69        43\n",
      "           1       0.00      0.00      0.00        38\n",
      "\n",
      "    accuracy                           0.53        81\n",
      "   macro avg       0.27      0.50      0.35        81\n",
      "weighted avg       0.28      0.53      0.37        81\n",
      "\n",
      "{'feature_selection__estimator__alpha': 0.1, 'feature_selection__estimator__l1_ratio': 0.1, 'xgb__learning_rate': 0.001, 'xgb__max_depth': 3, 'xgb__n_estimators': 100}\n"
     ]
    }
   ],
   "source": [
    "from sklearn.metrics import accuracy_score, classification_report, roc_auc_score\n",
    "\n",
    "# Predictions for Cluster 1\n",
    "y_train_pred_xgb_cluster_1 = best_model_xgb_1.predict(x_train_cluster_1)\n",
    "y_test_pred_xgb_cluster_1 = best_model_xgb_1.predict(x_test_cluster_1)\n",
    "\n",
    "# Accuracy for Cluster 1\n",
    "accuracy_train_xgb_cluster_1 = accuracy_score(y_train_cluster_1, y_train_pred_xgb_cluster_1)\n",
    "accuracy_test_xgb_cluster_1 = accuracy_score(y_test_cluster_1, y_test_pred_xgb_cluster_1)\n",
    "\n",
    "# ROC AUC Score for Cluster 1\n",
    "roc_auc_train_xgb_cluster_1 = roc_auc_score(y_train_cluster_1, best_model_xgb_1.predict_proba(x_train_cluster_1)[:, 1])\n",
    "roc_auc_test_xgb_cluster_1 = roc_auc_score(y_test_cluster_1, best_model_xgb_1.predict_proba(x_test_cluster_1)[:, 1])\n",
    "\n",
    "# Classification Report for Cluster 1\n",
    "class_report_train_xgb_cluster_1 = classification_report(y_train_cluster_1, y_train_pred_xgb_cluster_1)\n",
    "class_report_test_xgb_cluster_1 = classification_report(y_test_cluster_1, y_test_pred_xgb_cluster_1)\n",
    "\n",
    "print(\"Selected Features (XGBoost) for Cluster 1:\", selected_features_xgb)\n",
    "print(\"Accuracy on Training set (XGBoost) for Cluster 1:\", accuracy_train_xgb_cluster_1)\n",
    "print(\"Accuracy on Testing set (XGBoost) for Cluster 1:\", accuracy_test_xgb_cluster_1)\n",
    "print(\"ROC AUC Score on Training set (XGBoost) for Cluster 1:\", roc_auc_train_xgb_cluster_1)\n",
    "print(\"ROC AUC Score on Testing set (XGBoost) for Cluster 1:\", roc_auc_test_xgb_cluster_1)\n",
    "print(\"Classification Report on Training set (XGBoost) for Cluster 1:\\n\", class_report_train_xgb_cluster_1)\n",
    "print(\"Classification Report on Testing set (XGBoost) for Cluster 1:\\n\", class_report_test_xgb_cluster_1)\n",
    "print(grid_search_xgb.best_params_)\n",
    "\n"
   ]
  },
  {
   "cell_type": "code",
   "execution_count": null,
   "id": "0032e3ff",
   "metadata": {},
   "outputs": [],
   "source": []
  },
  {
   "cell_type": "code",
   "execution_count": 11,
   "id": "799e5360",
   "metadata": {},
   "outputs": [],
   "source": [
    "x_train_cluster_2 , x_test_cluster_2 , y_train_cluster_2 , y_test_cluster_2 = train_test_split(X_train_2,\n",
    "                                                                                    y_train_2,test_size=0.2,random_state=42)"
   ]
  },
  {
   "cell_type": "code",
   "execution_count": 12,
   "id": "f47d2a66",
   "metadata": {},
   "outputs": [
    {
     "name": "stdout",
     "output_type": "stream",
     "text": [
      "Selected Features (XGBoost): Index(['Id', 'Medical Conditions', 'Medications & Treatments',\n",
      "       'Nutritional Deficiencies ', 'Age'],\n",
      "      dtype='object')\n",
      "Accuracy on Training set (XGBoost): 0.6476190476190476\n",
      "Accuracy on Testing set (XGBoost): 0.5316455696202531\n",
      "{'feature_selection__estimator__alpha': 10.0, 'feature_selection__estimator__l1_ratio': 0.1, 'xgb__learning_rate': 0.01, 'xgb__max_depth': 3, 'xgb__n_estimators': 100}\n"
     ]
    }
   ],
   "source": [
    "# Create Pipeline with feature selection and XGBoost for classification\n",
    "pipeline_xgb = Pipeline([\n",
    "    ('feature_selection', SelectFromModel(XGBClassifier())),\n",
    "    ('xgb', XGBClassifier())\n",
    "])\n",
    "\n",
    "# Define parameter grid for hyperparameter tuning for XGBoost\n",
    "param_grid_xgb = {\n",
    "    'feature_selection__estimator__alpha': [0.1, 1.0, 10.0],\n",
    "    'feature_selection__estimator__l1_ratio': [0.1, 0.5, 0.9],\n",
    "    'xgb__learning_rate': [0.1, 0.01, 0.001],\n",
    "    'xgb__n_estimators': [100, 500, 1000],\n",
    "    'xgb__max_depth': [3, 5, 7]\n",
    "}\n",
    "\n",
    "# Perform GridSearchCV for XGBoost\n",
    "grid_search_xgb = GridSearchCV(pipeline_xgb, param_grid_xgb, cv=5, scoring='accuracy', n_jobs=-1)\n",
    "\n",
    "# Fit GridSearchCV for XGBoost\n",
    "grid_search_xgb.fit(x_train_cluster_2, y_train_cluster_2)\n",
    "\n",
    "# Get the best model for XGBoost\n",
    "best_model_xgb_2 = grid_search_xgb.best_estimator_\n",
    "\n",
    "# Get the selected features for XGBoost\n",
    "selected_features_xgb = x_train_cluster_2.columns[best_model_xgb_2.named_steps['feature_selection'].get_support()]\n",
    "\n",
    "# Evaluate the best model for XGBoost\n",
    "y_train_pred_xgb = best_model_xgb_2.predict(x_train_cluster_2)\n",
    "y_test_pred_xgb = best_model_xgb_2.predict(x_test_cluster_2)\n",
    "\n",
    "# Accuracy\n",
    "accuracy_train_xgb = accuracy_score(y_train_cluster_2, y_train_pred_xgb)\n",
    "accuracy_test_xgb = accuracy_score(y_test_cluster_2, y_test_pred_xgb)\n",
    "\n",
    "print(\"Selected Features (XGBoost):\", selected_features_xgb)\n",
    "print(\"Accuracy on Training set (XGBoost):\", accuracy_train_xgb)\n",
    "print(\"Accuracy on Testing set (XGBoost):\", accuracy_test_xgb)\n",
    "print(grid_search_xgb.best_params_)\n"
   ]
  },
  {
   "cell_type": "code",
   "execution_count": 18,
   "id": "449e5a98",
   "metadata": {},
   "outputs": [
    {
     "name": "stdout",
     "output_type": "stream",
     "text": [
      "Selected Features (XGBoost) for Cluster 2: Index(['Id', 'Medical Conditions', 'Medications & Treatments',\n",
      "       'Nutritional Deficiencies ', 'Age'],\n",
      "      dtype='object')\n",
      "Accuracy on Training set (XGBoost) for Cluster 2: 0.46984126984126984\n",
      "Accuracy on Testing set (XGBoost) for Cluster 2: 0.46835443037974683\n",
      "ROC AUC Score on Training set (XGBoost) for Cluster 2: 0.7677010843178508\n",
      "ROC AUC Score on Testing set (XGBoost) for Cluster 2: 0.573037323037323\n",
      "Classification Report on Training set (XGBoost) for Cluster 2:\n",
      "               precision    recall  f1-score   support\n",
      "\n",
      "           0       0.47      1.00      0.64       148\n",
      "           1       0.00      0.00      0.00       167\n",
      "\n",
      "    accuracy                           0.47       315\n",
      "   macro avg       0.23      0.50      0.32       315\n",
      "weighted avg       0.22      0.47      0.30       315\n",
      "\n",
      "Classification Report on Testing set (XGBoost) for Cluster 2:\n",
      "               precision    recall  f1-score   support\n",
      "\n",
      "           0       0.47      1.00      0.64        37\n",
      "           1       0.00      0.00      0.00        42\n",
      "\n",
      "    accuracy                           0.47        79\n",
      "   macro avg       0.23      0.50      0.32        79\n",
      "weighted avg       0.22      0.47      0.30        79\n",
      "\n",
      "{'feature_selection__estimator__alpha': 10.0, 'feature_selection__estimator__l1_ratio': 0.1, 'xgb__learning_rate': 0.01, 'xgb__max_depth': 3, 'xgb__n_estimators': 100}\n"
     ]
    }
   ],
   "source": [
    "# Predictions for Cluster 2\n",
    "from sklearn.metrics import accuracy_score, classification_report, roc_auc_score\n",
    "\n",
    "y_train_pred_xgb_cluster_2 = best_model_xgb_1.predict(x_train_cluster_2)\n",
    "y_test_pred_xgb_cluster_2 = best_model_xgb_1.predict(x_test_cluster_2)\n",
    "\n",
    "# Accuracy for Cluster 2\n",
    "accuracy_train_xgb_cluster_2 = accuracy_score(y_train_cluster_2, y_train_pred_xgb_cluster_2)\n",
    "accuracy_test_xgb_cluster_2 = accuracy_score(y_test_cluster_2, y_test_pred_xgb_cluster_2)\n",
    "\n",
    "# ROC AUC Score for Cluster 2\n",
    "roc_auc_train_xgb_cluster_2 = roc_auc_score(y_train_cluster_2, best_model_xgb_2.predict_proba(x_train_cluster_2)[:, 1])\n",
    "roc_auc_test_xgb_cluster_2 = roc_auc_score(y_test_cluster_2, best_model_xgb_2.predict_proba(x_test_cluster_2)[:, 1])\n",
    "\n",
    "# Classification Report for Cluster 2\n",
    "class_report_train_xgb_cluster_2 = classification_report(y_train_cluster_2, y_train_pred_xgb_cluster_2)\n",
    "class_report_test_xgb_cluster_2 = classification_report(y_test_cluster_2, y_test_pred_xgb_cluster_2)\n",
    "\n",
    "print(\"Selected Features (XGBoost) for Cluster 2:\", selected_features_xgb)\n",
    "print(\"Accuracy on Training set (XGBoost) for Cluster 2:\", accuracy_train_xgb_cluster_2)\n",
    "print(\"Accuracy on Testing set (XGBoost) for Cluster 2:\", accuracy_test_xgb_cluster_2)\n",
    "print(\"ROC AUC Score on Training set (XGBoost) for Cluster 2:\", roc_auc_train_xgb_cluster_2)\n",
    "print(\"ROC AUC Score on Testing set (XGBoost) for Cluster 2:\", roc_auc_test_xgb_cluster_2)\n",
    "print(\"Classification Report on Training set (XGBoost) for Cluster 2:\\n\", class_report_train_xgb_cluster_2)\n",
    "print(\"Classification Report on Testing set (XGBoost) for Cluster 2:\\n\", class_report_test_xgb_cluster_2)\n",
    "print(grid_search_xgb.best_params_)\n"
   ]
  },
  {
   "cell_type": "code",
   "execution_count": 19,
   "id": "7a25e0e3",
   "metadata": {},
   "outputs": [
    {
     "data": {
      "text/plain": [
       "Index(['Id', 'Medical Conditions', 'Medications & Treatments',\n",
       "       'Nutritional Deficiencies ', 'Age'],\n",
       "      dtype='object')"
      ]
     },
     "execution_count": 19,
     "metadata": {},
     "output_type": "execute_result"
    }
   ],
   "source": [
    "selected_features_xgb"
   ]
  }
 ],
 "metadata": {
  "kernelspec": {
   "display_name": "Python 3 (ipykernel)",
   "language": "python",
   "name": "python3"
  },
  "language_info": {
   "codemirror_mode": {
    "name": "ipython",
    "version": 3
   },
   "file_extension": ".py",
   "mimetype": "text/x-python",
   "name": "python",
   "nbconvert_exporter": "python",
   "pygments_lexer": "ipython3",
   "version": "3.11.7"
  }
 },
 "nbformat": 4,
 "nbformat_minor": 5
}
